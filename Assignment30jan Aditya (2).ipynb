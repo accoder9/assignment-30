{
 "cells": [
  {
   "cell_type": "markdown",
   "id": "2087ef6f-05b6-4dff-9f67-cc0ff7085014",
   "metadata": {
    "tags": []
   },
   "source": [
    "1. Write a program to accept percentage from the user and display the grade according to the following criteria:\n",
    "    Marks            Grade\n",
    "    >90              A\n",
    "    >80 and <=90     B\n",
    "    >=60 and <=80    C\n",
    "    below 60         D"
   ]
  },
  {
   "cell_type": "code",
   "execution_count": 5,
   "id": "47388959-d86a-40e8-af1c-265ff81a96cc",
   "metadata": {},
   "outputs": [
    {
     "name": "stdin",
     "output_type": "stream",
     "text": [
      "marks percentage 99\n"
     ]
    },
    {
     "name": "stdout",
     "output_type": "stream",
     "text": [
      "A\n"
     ]
    }
   ],
   "source": [
    "a=int(input('marks percentage'))\n",
    "if a>90:\n",
    "      print(\"A\")\n",
    "elif a>80 and a<=90:\n",
    "    print(\"B\")\n",
    "elif a>=60 and a<=80:\n",
    "    print(\"C\")\n",
    "elif a<60 :\n",
    "    print(\"D\")"
   ]
  },
  {
   "cell_type": "markdown",
   "id": "7c804412-4aff-43aa-b2e4-3a2049ace514",
   "metadata": {},
   "source": [
    "2 Write a program to accept the cost proce of a bike and display the road tax paid according to the following criteria:\n",
    "    Tax                 cost price(in Rs)\n",
    "    15%                 >100000\n",
    "    10%                 >50000 and <=100000\n",
    "    5%                  <50000"
   ]
  },
  {
   "cell_type": "code",
   "execution_count": 6,
   "id": "0b5f252f-41bd-4b2d-8753-3d3fa184a1ec",
   "metadata": {},
   "outputs": [
    {
     "name": "stdin",
     "output_type": "stream",
     "text": [
      "price 105000\n"
     ]
    },
    {
     "name": "stdout",
     "output_type": "stream",
     "text": [
      "15%\n"
     ]
    }
   ],
   "source": [
    "a=int(input('price'))\n",
    "if a>100000:\n",
    "    print(\"15%\")\n",
    "elif a>50000 and a<=100000:\n",
    "    print(\"10\")\n",
    "elif a<=50000:\n",
    "    print(\"5%\")"
   ]
  },
  {
   "cell_type": "markdown",
   "id": "d7c98f44-02d8-4ac3-94b8-a26264dd6c4a",
   "metadata": {},
   "source": [
    "3. Accept any city from the user and display monumnets of that city .\n",
    "city                  Monument\n",
    "Delhi                 Red Fort\n",
    "Agra                  Taj Mahal\n",
    "Jaipur                Jal Mahal"
   ]
  },
  {
   "cell_type": "code",
   "execution_count": 4,
   "id": "db0f2bf6-8a0f-42bb-a594-4421e4ee4b4e",
   "metadata": {},
   "outputs": [
    {
     "name": "stdin",
     "output_type": "stream",
     "text": [
      "city Delhi\n"
     ]
    },
    {
     "name": "stdout",
     "output_type": "stream",
     "text": [
      "Red Fort\n"
     ]
    }
   ],
   "source": [
    "a= input('city')\n",
    "b={'Delhi':'Red Fort','Agra': 'Taj Mahal' ,'Jaipur' : 'Jal Mahal'}\n",
    "c=b[a]\n",
    "print(c)"
   ]
  },
  {
   "cell_type": "markdown",
   "id": "389a4582-9975-44b0-804b-07279da31e28",
   "metadata": {},
   "source": [
    "4 Check how many times a given number can be divided by 3 before it is less than or equal to 10'"
   ]
  },
  {
   "cell_type": "code",
   "execution_count": 1,
   "id": "123a52f5-ca8d-49cf-ab5c-c6901e09496b",
   "metadata": {},
   "outputs": [
    {
     "name": "stdin",
     "output_type": "stream",
     "text": [
      "enter 180\n"
     ]
    },
    {
     "name": "stdout",
     "output_type": "stream",
     "text": [
      "3\n"
     ]
    }
   ],
   "source": [
    "a= int(input('enter'))\n",
    "count=0\n",
    "while a>=10:\n",
    "    a=a/3\n",
    "    count=count+1\n",
    "print (count)\n"
   ]
  },
  {
   "cell_type": "markdown",
   "id": "5e2e4812-36d5-48dc-ac5f-0055a1201a51",
   "metadata": {},
   "source": [
    "5 Why and when to use while loop in python give a detailed description with example"
   ]
  },
  {
   "cell_type": "markdown",
   "id": "f464eeea-f346-430c-aacc-acb1adfe868b",
   "metadata": {},
   "source": [
    "while loop is used to run a block code until a certain condition is met.\n",
    "\n",
    "The syntax of while loop is:\n",
    "\n",
    "while condition:\n",
    "    # body of while loop\n",
    "    \n",
    "While loop falls under the category of indefinite iteration. Indefinite iteration means that the number of times the loop is executed isn’t specified explicitly in advance.Statements represent all the statements indented by the same number of character spaces after a programming construct are considered to be part of a single block of code.\n",
    "\n",
    "\n",
    "count=0\n",
    "while i<3:\n",
    "  print(\"Hello Data\")\n",
    "  \n",
    "output\n",
    "Hello Data \n",
    "Hello Data \n",
    "Hello Data"
   ]
  },
  {
   "cell_type": "markdown",
   "id": "f0721f59-8265-4351-8d48-4c0014c48748",
   "metadata": {},
   "source": [
    "6. use nested while loop to print 3 different patters."
   ]
  },
  {
   "cell_type": "code",
   "execution_count": 12,
   "id": "3ab125d6-de83-4c4c-aa94-68406fe13d39",
   "metadata": {},
   "outputs": [
    {
     "name": "stdin",
     "output_type": "stream",
     "text": [
      "enter 5\n"
     ]
    },
    {
     "name": "stdout",
     "output_type": "stream",
     "text": [
      "*****\n",
      "****\n",
      "***\n",
      "**\n",
      "*\n"
     ]
    }
   ],
   "source": [
    "a=int(input(\"enter\"))\n",
    "i=1\n",
    "while i<=a:\n",
    "    j=i\n",
    "    while j<=a:\n",
    "        print(\"*\",end=\"\")\n",
    "        j=j+1\n",
    "    print()\n",
    "    i=i+1\n",
    "    "
   ]
  },
  {
   "cell_type": "code",
   "execution_count": 9,
   "id": "79e8a06f-78dc-466f-9a4b-6e7ac9405604",
   "metadata": {},
   "outputs": [
    {
     "name": "stdin",
     "output_type": "stream",
     "text": [
      "enter 5\n"
     ]
    },
    {
     "name": "stdout",
     "output_type": "stream",
     "text": [
      "*\n",
      "**\n",
      "***\n",
      "****\n",
      "*****\n"
     ]
    }
   ],
   "source": [
    "a=int(input(\"enter\"))\n",
    "i=1\n",
    "while i<=a:\n",
    "    j=1\n",
    "    while j<=i:\n",
    "        print(\"*\",end=\"\")\n",
    "        j=j+1\n",
    "    print()\n",
    "    i=i+1"
   ]
  },
  {
   "cell_type": "code",
   "execution_count": 29,
   "id": "26586556-ef8c-4e61-bf94-45ec577f6376",
   "metadata": {},
   "outputs": [
    {
     "name": "stdin",
     "output_type": "stream",
     "text": [
      "enter 5\n"
     ]
    },
    {
     "name": "stdout",
     "output_type": "stream",
     "text": [
      " *********\n",
      "  *******\n",
      "   *****\n",
      "    ***\n",
      "     *\n"
     ]
    }
   ],
   "source": [
    "a=int(input(\"enter\"))\n",
    "i=1\n",
    "while i<=a:\n",
    "    j=0\n",
    "    while j<i:\n",
    "        print(\" \",end=\"\")\n",
    "        j=j+1\n",
    "    while j<=a:\n",
    "        print(\"*\",end=\"\")\n",
    "        j=j+1\n",
    "    k=a\n",
    "    while k>i:\n",
    "        print(\"*\",end=\"\")\n",
    "        k=k-1\n",
    "    print()\n",
    "    i=i+1"
   ]
  },
  {
   "cell_type": "markdown",
   "id": "04949996-f945-4ffe-87e2-ead10bb9a494",
   "metadata": {},
   "source": [
    "7 reverse a while loop to display numbers from 10 to 1"
   ]
  },
  {
   "cell_type": "code",
   "execution_count": 33,
   "id": "0a43f57c-cb18-4aea-97aa-c9452d23ad0e",
   "metadata": {},
   "outputs": [
    {
     "name": "stdin",
     "output_type": "stream",
     "text": [
      "enter 10\n"
     ]
    },
    {
     "name": "stdout",
     "output_type": "stream",
     "text": [
      "[10, 9, 8, 7, 6, 5, 4, 3, 2, 1]\n"
     ]
    }
   ],
   "source": [
    "a=int(input(\"enter\"))\n",
    "i=a\n",
    "l=[]\n",
    "while i>0:\n",
    "    l.append(i)\n",
    "    i=i-1\n",
    "print(l)"
   ]
  },
  {
   "cell_type": "markdown",
   "id": "2e69aa4b-d821-4d33-8bdb-613fe1e8237a",
   "metadata": {},
   "source": [
    "8.reverse a while loop to display numbers from 10 to 1"
   ]
  },
  {
   "cell_type": "code",
   "execution_count": 36,
   "id": "6440f668-897d-4e38-81c4-ced990beee5f",
   "metadata": {},
   "outputs": [
    {
     "name": "stdin",
     "output_type": "stream",
     "text": [
      "enter 10\n"
     ]
    },
    {
     "name": "stdout",
     "output_type": "stream",
     "text": [
      "[10, 9, 8, 7, 6, 5, 4, 3, 2, 1]\n"
     ]
    }
   ],
   "source": [
    "a=int(input(\"enter\"))\n",
    "i=a\n",
    "l=[]\n",
    "while i>0:\n",
    "    l.append(i)\n",
    "    i=i-1\n",
    "print(l)"
   ]
  },
  {
   "cell_type": "code",
   "execution_count": null,
   "id": "2f56cb03-14bb-4a2b-89d5-2eb1bc6c8865",
   "metadata": {},
   "outputs": [],
   "source": []
  },
  {
   "cell_type": "code",
   "execution_count": null,
   "id": "6b108b44-ef89-4441-b28a-cb9a6dae19c8",
   "metadata": {},
   "outputs": [],
   "source": []
  }
 ],
 "metadata": {
  "kernelspec": {
   "display_name": "Python 3 (ipykernel)",
   "language": "python",
   "name": "python3"
  },
  "language_info": {
   "codemirror_mode": {
    "name": "ipython",
    "version": 3
   },
   "file_extension": ".py",
   "mimetype": "text/x-python",
   "name": "python",
   "nbconvert_exporter": "python",
   "pygments_lexer": "ipython3",
   "version": "3.10.8"
  }
 },
 "nbformat": 4,
 "nbformat_minor": 5
}
